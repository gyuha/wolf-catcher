{
 "cells": [
  {
   "cell_type": "code",
   "execution_count": 10,
   "metadata": {},
   "outputs": [
    {
     "name": "stdout",
     "output_type": "stream",
     "text": [
      "📢[Untitled-1.ipynb:4]:  <re.Match object; span=(0, 34), match='https://wfwf219.com/list?toon=4645'>\n",
      "📢[Untitled-1.ipynb:4]:  <re.Match object; span=(0, 33), match='https://wfwf219.com/cl?toon=12754'>\n"
     ]
    }
   ],
   "source": [
    "import re\n",
    "\n",
    "reg = \"https://wfwf[0-9]+.com/.*?toon=[0-9]+\"\n",
    "t = re.search(reg, \"https://wfwf219.com/list?toon=4645&title=%C8%B2%BA%F1%B4%D4%C8%B2%BA%F1%B4%D4\")\n",
    "print('📢[Untitled-1.ipynb:4]: ', t)\n",
    "t = re.search(reg, \"https://wfwf219.com/cl?toon=12754&title=%C3%D6%B0%AD%C0%C7%B8%B6%B5%B5%BB%E7%B9%AB%B8%AD%BF%A1%C8%AD%BB%EC%C0%BB%B8%C2%BE%C6%BC%AD%BD%C3%B0%F1%C0%C7%C0%A7%BA%B4%C0%CC%B5%C7%B4%D9\")\n",
    "print('📢[Untitled-1.ipynb:4]: ', t)\n"
   ]
  },
  {
   "cell_type": "code",
   "execution_count": 21,
   "metadata": {},
   "outputs": [
    {
     "name": "stdout",
     "output_type": "stream",
     "text": [
      "📢[rex.ipynb:6]:  13955\n"
     ]
    }
   ],
   "source": [
    "import re\n",
    "\n",
    "t = \"https://wfwf221.com/cl?toon=13955&title=%C3%BC%C0%CE%BC%D2%B8%C7%C0%FC%B1%E2%C5%E9%B8%C7\"\n",
    "m = re.match(\".*/cl\\?toon=\\D*(\\d+)\", t)\n",
    "if m:\n",
    "    print('📢[rex.ipynb:6]: ', m.group(1))"
   ]
  },
  {
   "cell_type": "code",
   "execution_count": null,
   "metadata": {},
   "outputs": [],
   "source": []
  },
  {
   "cell_type": "code",
   "execution_count": 5,
   "metadata": {},
   "outputs": [
    {
     "name": "stdout",
     "output_type": "stream",
     "text": [
      "📢[rex.ipynb:6]:  후지모토 타츠키\n",
      "📢[rex.ipynb:8]:  주간\n"
     ]
    }
   ],
   "source": [
    "import os\n",
    "\n",
    "text = \"연재일 : 주간 작가 : 후지모토 타츠키\"\n",
    "sp = text.split(\"작가 :\")\n",
    "author = sp[1].strip()\n",
    "session = sp[0].split(\"연재일 :\")[1].strip()\n",
    "print('📢[rex.ipynb:6]: ', author)\n",
    "print('📢[rex.ipynb:8]: ', session)\n",
    "\n"
   ]
  }
 ],
 "metadata": {
  "kernelspec": {
   "display_name": "Python 3.8.10 ('.venv': poetry)",
   "language": "python",
   "name": "python3"
  },
  "language_info": {
   "codemirror_mode": {
    "name": "ipython",
    "version": 3
   },
   "file_extension": ".py",
   "mimetype": "text/x-python",
   "name": "python",
   "nbconvert_exporter": "python",
   "pygments_lexer": "ipython3",
   "version": "3.8.10"
  },
  "orig_nbformat": 4,
  "vscode": {
   "interpreter": {
    "hash": "9a1dcb7030bbf433732b515153cac316dac86f70aa1e09c3ce939e53bc4e73da"
   }
  }
 },
 "nbformat": 4,
 "nbformat_minor": 2
}
