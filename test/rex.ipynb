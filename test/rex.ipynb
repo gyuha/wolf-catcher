{
 "cells": [
  {
   "cell_type": "code",
   "execution_count": 10,
   "metadata": {},
   "outputs": [
    {
     "name": "stdout",
     "output_type": "stream",
     "text": [
      "📢[Untitled-1.ipynb:4]:  <re.Match object; span=(0, 34), match='https://wfwf219.com/list?toon=4645'>\n",
      "📢[Untitled-1.ipynb:4]:  <re.Match object; span=(0, 33), match='https://wfwf219.com/cl?toon=12754'>\n"
     ]
    }
   ],
   "source": [
    "import re\n",
    "\n",
    "reg = \"https://wfwf[0-9]+.com/.*?toon=[0-9]+\"\n",
    "t = re.search(reg, \"https://wfwf219.com/list?toon=4645&title=%C8%B2%BA%F1%B4%D4%C8%B2%BA%F1%B4%D4\")\n",
    "print('📢[Untitled-1.ipynb:4]: ', t)\n",
    "t = re.search(reg, \"https://wfwf219.com/cl?toon=12754&title=%C3%D6%B0%AD%C0%C7%B8%B6%B5%B5%BB%E7%B9%AB%B8%AD%BF%A1%C8%AD%BB%EC%C0%BB%B8%C2%BE%C6%BC%AD%BD%C3%B0%F1%C0%C7%C0%A7%BA%B4%C0%CC%B5%C7%B4%D9\")\n",
    "print('📢[Untitled-1.ipynb:4]: ', t)\n"
   ]
  },
  {
   "cell_type": "code",
   "execution_count": 1,
   "metadata": {},
   "outputs": [
    {
     "name": "stdout",
     "output_type": "stream",
     "text": [
      "📢[rex.ipynb:18]:  <class '__main__.WhatPerson'>\n",
      "📢[rex.ipynb:18]:  <__main__.WhatPerson object at 0x0000026F010500D0>\n",
      "📢[rex.ipynb:20]:  <__main__.Person object at 0x0000026F01061550>\n"
     ]
    }
   ],
   "source": [
    "class Person:\n",
    "    default= \"아빠\"\n",
    "\n",
    "    def __init__(self):\n",
    "        self.data = self.default\n",
    "    \n",
    "    @classmethod\n",
    "    def person(cls):\n",
    "        return cls\n",
    "\n",
    "    @classmethod\n",
    "    def class_person(cls):\n",
    "        return cls()\n",
    "\n",
    "    @staticmethod\n",
    "    def static_person():\n",
    "        return Person()\n",
    "\n",
    "class WhatPerson(Person):\n",
    "    default = \"엄마\"\n",
    "\n",
    "person1 = WhatPerson.person()    # return 엄마\n",
    "print('📢[rex.ipynb:18]: ', person1)\n",
    "person1 = WhatPerson.class_person()    # return 엄마\n",
    "print('📢[rex.ipynb:18]: ', person1)\n",
    "person2 = WhatPerson.static_person()   # return 아빠\n",
    "print('📢[rex.ipynb:20]: ', person2)"
   ]
  }
 ],
 "metadata": {
  "kernelspec": {
   "display_name": "Python 3.8.10 ('.venv': poetry)",
   "language": "python",
   "name": "python3"
  },
  "language_info": {
   "codemirror_mode": {
    "name": "ipython",
    "version": 3
   },
   "file_extension": ".py",
   "mimetype": "text/x-python",
   "name": "python",
   "nbconvert_exporter": "python",
   "pygments_lexer": "ipython3",
   "version": "3.8.10"
  },
  "orig_nbformat": 4,
  "vscode": {
   "interpreter": {
    "hash": "9a1dcb7030bbf433732b515153cac316dac86f70aa1e09c3ce939e53bc4e73da"
   }
  }
 },
 "nbformat": 4,
 "nbformat_minor": 2
}
